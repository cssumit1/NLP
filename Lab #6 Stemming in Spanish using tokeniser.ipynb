{
 "cells": [
  {
   "cell_type": "markdown",
   "id": "afb3a086",
   "metadata": {},
   "source": [
    "## Lab #6 Stemming in Spanish using tokeniser\n",
    "\n",
    "Python nltk provides not only two English stemmers: PorterStemmer and LancasterStemmer but also a lot of non-English stemmers as part of SnowballStemmers, ISRIStemmer, RSLPSStemmer. Python NLTK included SnowballStemmers as a language to create to create non-English stemmers. One can program one's own language stemmer using snowball. "
   ]
  },
  {
   "cell_type": "code",
   "execution_count": 23,
   "id": "16dc5407",
   "metadata": {},
   "outputs": [
    {
     "data": {
      "text/plain": [
       "'hol'"
      ]
     },
     "execution_count": 23,
     "metadata": {},
     "output_type": "execute_result"
    }
   ],
   "source": [
    "from nltk.stem.snowball import SnowballStemmer\n",
    "\n",
    "spanishStemmer=SnowballStemmer(\"spanish\", ignore_stopwords=True)\n",
    "spanishStemmer.stem(\"Hola\")"
   ]
  },
  {
   "cell_type": "code",
   "execution_count": 24,
   "id": "076ef58a",
   "metadata": {},
   "outputs": [],
   "source": [
    "new_text = \"El español es el segundo idioma más hablado del mundo, solo superado por el mandarín, y su uso aumenta cada día.\"\n",
    "\n",
    "#Spanish is the second most spoken language on earth, second only to Mandarin, and growing in use every day. "
   ]
  },
  {
   "cell_type": "code",
   "execution_count": 25,
   "id": "61ee2d86",
   "metadata": {},
   "outputs": [],
   "source": [
    "from nltk.tokenize.toktok import ToktokTokenizer"
   ]
  },
  {
   "cell_type": "code",
   "execution_count": 26,
   "id": "d8894e19",
   "metadata": {},
   "outputs": [],
   "source": [
    "toktok = ToktokTokenizer()"
   ]
  },
  {
   "cell_type": "markdown",
   "id": "4419e5cf",
   "metadata": {},
   "source": [
    "#### Spanish word tokeniser \n",
    "Here we are printing the actual Words using Tokenizer"
   ]
  },
  {
   "cell_type": "code",
   "execution_count": 27,
   "id": "8a8315e5",
   "metadata": {},
   "outputs": [
    {
     "data": {
      "text/plain": [
       "['El',\n",
       " 'español',\n",
       " 'es',\n",
       " 'el',\n",
       " 'segundo',\n",
       " 'idioma',\n",
       " 'más',\n",
       " 'hablado',\n",
       " 'del',\n",
       " 'mundo',\n",
       " ',',\n",
       " 'solo',\n",
       " 'superado',\n",
       " 'por',\n",
       " 'el',\n",
       " 'mandarín',\n",
       " ',',\n",
       " 'y',\n",
       " 'su',\n",
       " 'uso',\n",
       " 'aumenta',\n",
       " 'cada',\n",
       " 'día',\n",
       " '.']"
      ]
     },
     "execution_count": 27,
     "metadata": {},
     "output_type": "execute_result"
    }
   ],
   "source": [
    "words = toktok.tokenize(new_text)\n",
    "words"
   ]
  },
  {
   "cell_type": "markdown",
   "id": "9366990c",
   "metadata": {},
   "source": [
    "#### Stem a list of above words in spanish using tokeniser"
   ]
  },
  {
   "cell_type": "code",
   "execution_count": 28,
   "id": "976253e7",
   "metadata": {},
   "outputs": [
    {
     "name": "stdout",
     "output_type": "stream",
     "text": [
      "el\n",
      "español\n",
      "es\n",
      "el\n",
      "segund\n",
      "idiom\n",
      "más\n",
      "habl\n",
      "del\n",
      "mund\n",
      ",\n",
      "sol\n",
      "super\n",
      "por\n",
      "el\n",
      "mandarin\n",
      ",\n",
      "y\n",
      "su\n",
      "uso\n",
      "aument\n",
      "cad\n",
      "dia\n",
      ".\n"
     ]
    }
   ],
   "source": [
    "for w in words:\n",
    "    print(spanishStemmer.stem(w))"
   ]
  },
  {
   "cell_type": "markdown",
   "id": "9afd1223",
   "metadata": {},
   "source": [
    "#### Stemming and Lemmatization\n",
    "\n",
    "Stemming and Lemmatization are itself form of NLP and widely used in Text mining. Text Mining is the process of analysis of texts written in natural language and extract high-quality information from text. It involves looking for interesting patterns in the text or to extract data from the text to be inserted into a database.\n",
    "\n",
    "Stemming has been used in Query systems such as Web Search Engines, but due to problems of under-stemming and over-stemming it's effectiveness in returning correct results have been found limited. For example, a person searching for 'marketing' may not be pleased with results that will show 'markets' and not marketing. But Stemming may be found useful in other languages and using different algorithms for stemming may result in better outputs. Google search adopted stemming in 2003."
   ]
  }
 ],
 "metadata": {
  "kernelspec": {
   "display_name": "Python 3 (ipykernel)",
   "language": "python",
   "name": "python3"
  },
  "language_info": {
   "codemirror_mode": {
    "name": "ipython",
    "version": 3
   },
   "file_extension": ".py",
   "mimetype": "text/x-python",
   "name": "python",
   "nbconvert_exporter": "python",
   "pygments_lexer": "ipython3",
   "version": "3.9.5"
  }
 },
 "nbformat": 4,
 "nbformat_minor": 5
}
